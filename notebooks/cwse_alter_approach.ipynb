{
 "cells": [
  {
   "cell_type": "markdown",
   "metadata": {
    "isInteractiveWindowMessageCell": true
   },
   "source": [
    "Connected to cswe (Python 3.11.5)"
   ]
  },
  {
   "cell_type": "markdown",
   "metadata": {},
   "source": [
    "### Processing the original data set of BIPOC researchers in social work and their research interests.\n",
    "The data is unstructured and needs to be \"cleaned\" before attempting to extract meaningful information. In this context, cleaned means removing duplicates, plurals, and mispelling. Since the information is made of terms that may be single words or multi-word phrases, using simple term frequency does not work as well as trying to extract word combinations based on their distance from each other in the text and their frequency.  "
   ]
  },
  {
   "cell_type": "code",
   "execution_count": 16,
   "metadata": {},
   "outputs": [],
   "source": [
    "from gensim.models.phrases import Phrases, Phraser\n",
    "from gensim.utils import simple_preprocess\n",
    "import pandas as pd\n",
    "import pkg_resources\n",
    "import numpy as np\n",
    "import nltk\n",
    "from textblob import TextBlob\n",
    "from symspellpy import SymSpell, Verbosity\n",
    "from joblib import Parallel, delayed\n",
    "import os\n",
    "import openpyxl\n",
    "os.environ[\"TOKENIZERS_PARALLELISM\"] = \"false\""
   ]
  },
  {
   "cell_type": "code",
   "execution_count": 17,
   "metadata": {},
   "outputs": [],
   "source": [
    "data = pd.read_csv('original_data.csv')"
   ]
  },
  {
   "cell_type": "markdown",
   "metadata": {},
   "source": [
    "#### Settings for implementing the spell checking and word combination extraction. "
   ]
  },
  {
   "cell_type": "code",
   "execution_count": 18,
   "metadata": {},
   "outputs": [],
   "source": [
    "def initialize_symspell(max_dictionary_edit_distance=2, prefix_length=7):\n",
    "    sym_spell = SymSpell(max_dictionary_edit_distance=max_dictionary_edit_distance, prefix_length=prefix_length)\n",
    "    dictionary_path = pkg_resources.resource_filename(\n",
    "        \"symspellpy\", \"frequency_dictionary_en_82_765.txt\")\n",
    "    sym_spell.load_dictionary(dictionary_path, term_index=0, count_index=1)\n",
    "    return sym_spell\n",
    "\n",
    "sym_spell = initialize_symspell()\n",
    "\n",
    "def apply_sym_spell_correction(text):\n",
    "    # Handle non-string data\n",
    "    if not isinstance(text, str):\n",
    "        return text\n",
    "    corrected_text = sym_spell.lookup(text, Verbosity.CLOSEST)\n",
    "    if corrected_text:\n",
    "        return corrected_text[0].term\n",
    "    return text  # if no correction is found, return the original text\n",
    "\n",
    "def correct_spelling_with_symspell(df: pd.DataFrame) -> pd.DataFrame:\n",
    "    #Remember there's nan and have to be strings \n",
    "    df = df.astype(str).fillna('')\n",
    "    # Corrects spelling for all entries in the DataFrame using SymSpell\n",
    "    for col in df.columns:\n",
    "        df[col] = df[col].apply(apply_sym_spell_correction)\n",
    "    return df\n"
   ]
  },
  {
   "cell_type": "code",
   "execution_count": 19,
   "metadata": {},
   "outputs": [],
   "source": [
    "corrected_data = correct_spelling_with_symspell(data)"
   ]
  },
  {
   "cell_type": "markdown",
   "metadata": {},
   "source": [
    "#### Settings to find the most common word combinations in the data set with a focus on bigrams or two-word phrases."
   ]
  },
  {
   "cell_type": "code",
   "execution_count": 20,
   "metadata": {},
   "outputs": [],
   "source": [
    "tokenized_interests = [simple_preprocess(doc) for doc in corrected_data['Interests']]\n",
    "# Find some useful words with Gensim's Phrases\n",
    "phrases = Phrases(tokenized_interests, min_count=3, threshold=20)\n",
    "phraser = Phraser(phrases)"
   ]
  },
  {
   "cell_type": "code",
   "execution_count": 21,
   "metadata": {},
   "outputs": [
    {
     "data": {
      "text/plain": [
       "['african_americans',\n",
       " 'welfare_reform',\n",
       " 'program_evaluation',\n",
       " 'cross_cultural',\n",
       " 'child_welfare',\n",
       " 'kinship_care',\n",
       " 'african_american',\n",
       " 'substance_abuse',\n",
       " 'community_based',\n",
       " 'based_participatory',\n",
       " 'participatory_research',\n",
       " 'criminal_justice',\n",
       " 'hiv_aids',\n",
       " 'access_to',\n",
       " 'quantitative_methods',\n",
       " 'suicide_prevention',\n",
       " 'hiv_prevention',\n",
       " 'child_maltreatment',\n",
       " 'domestic_violence',\n",
       " 'ethnic_minority',\n",
       " 'data_analysis',\n",
       " 'violence_against',\n",
       " 'against_women',\n",
       " 'race_ethnicity',\n",
       " 'substance_use',\n",
       " 'early_childhood',\n",
       " 'racial_ethnic',\n",
       " 'risk_behaviors',\n",
       " 'human_trafficking',\n",
       " 'culturally_competent',\n",
       " 'serious_mental',\n",
       " 'ethnic_minorities',\n",
       " 'young_adult',\n",
       " 'partner_violence',\n",
       " 'provider_communication',\n",
       " 'decision_making',\n",
       " 'vulnerable_populations',\n",
       " 'focusing_on',\n",
       " 'well_being',\n",
       " 'an_emphasis',\n",
       " 'emphasis_on',\n",
       " 'intimate_partner',\n",
       " 'evidence_based',\n",
       " 'critical_race',\n",
       " 'race_theory',\n",
       " 'contextual_factors',\n",
       " 'integrated_behavioral',\n",
       " 'problem_behaviors',\n",
       " 'mass_incarceration',\n",
       " 'human_rights',\n",
       " 'sex_trafficking',\n",
       " 'adverse_childhood',\n",
       " 'childhood_experiences',\n",
       " 'barriers_to',\n",
       " 'service_utilization',\n",
       " 'cultural_competence',\n",
       " 'positive_youth',\n",
       " 'older_adults',\n",
       " 'higher_education',\n",
       " 'juvenile_justice',\n",
       " 'culturally_responsive',\n",
       " 'alzheimer_disease',\n",
       " 'grandparents_raising',\n",
       " 'raising_grandchildren',\n",
       " 'chronic_illness',\n",
       " 'factors_that',\n",
       " 'such_as',\n",
       " 'support_networks',\n",
       " 'adult_elderly',\n",
       " 'hiv_sti',\n",
       " 'undocumented_immigrants',\n",
       " 'low_income',\n",
       " 'oppressed_groups',\n",
       " 'implementation_science',\n",
       " 'asset_building',\n",
       " 'mixed_methods',\n",
       " 'chronic_disease',\n",
       " 'community_organizing',\n",
       " 'participatory_action',\n",
       " 'marginalized_communities',\n",
       " 'artificial_intelligence',\n",
       " 'emerging_adults',\n",
       " 'high_risk',\n",
       " 'built_environment',\n",
       " 'capacity_building',\n",
       " 'affected_by',\n",
       " 'economic_inequality',\n",
       " 'drug_use',\n",
       " 'service_delivery',\n",
       " 'with_focus',\n",
       " 'focus_on',\n",
       " 'protective_factors',\n",
       " 'anti_oppressive',\n",
       " 'research_methods',\n",
       " 'asian_americans',\n",
       " 'culturally_sensitive',\n",
       " 'clinical_practice',\n",
       " 'black_feminism',\n",
       " 'young_adults',\n",
       " 'american_indian',\n",
       " 'anti_racist',\n",
       " 'cross_national',\n",
       " 'urban_settings',\n",
       " 'at_risk',\n",
       " 'related_to',\n",
       " 'qualitative_methods',\n",
       " 'critical_pedagogy',\n",
       " 'nonprofit_management',\n",
       " 'foster_care',\n",
       " 'network_analysis',\n",
       " 'minority_groups',\n",
       " 'sexual_assault',\n",
       " 'to_reduce',\n",
       " 'working_with',\n",
       " 'juvenile_delinquency',\n",
       " 'designed_to',\n",
       " 'long_term',\n",
       " 'the_united',\n",
       " 'united_states',\n",
       " 'problem_internet',\n",
       " 'these_problems',\n",
       " 'low_wage',\n",
       " 'trauma_informed',\n",
       " 'informed_care',\n",
       " 'help_seeking',\n",
       " 'later_life',\n",
       " 'life_course',\n",
       " 'income_families',\n",
       " 'food_insecurity',\n",
       " 'college_students']"
      ]
     },
     "execution_count": 21,
     "metadata": {},
     "output_type": "execute_result"
    }
   ],
   "source": [
    "# Check if it makes sense\n",
    "list(phraser.phrasegrams.keys())"
   ]
  },
  {
   "cell_type": "markdown",
   "metadata": {},
   "source": [
    "The output can be manually reviewed to check for filler words or stopwords and adjusting the spellchecking and grouping settings. Since it's a small data set with specialized terms, it's preferable to make the list of filler words than using pre-made lists."
   ]
  },
  {
   "cell_type": "code",
   "execution_count": 22,
   "metadata": {},
   "outputs": [],
   "source": [
    "# retry with stopwords after reviewing output\n",
    "stopwords = set([\"that\", \"this\", \"these\", \"to\", \"as\", \"such\", \"by\", \"focus\", \"on\", \"with\", \"the\", \"an\", \"at\", \"emphasis\"])\n"
   ]
  },
  {
   "cell_type": "code",
   "execution_count": 23,
   "metadata": {},
   "outputs": [],
   "source": [
    "# Repeat the tokenization with the new stopwords\n",
    "tokenized_interests = [[word for word in simple_preprocess(doc) if word not in stopwords] for doc in corrected_data['Interests']]\n",
    "phrases = Phrases(tokenized_interests, min_count=3, threshold=20)\n",
    "phraser = Phraser(phrases)"
   ]
  },
  {
   "cell_type": "code",
   "execution_count": 24,
   "metadata": {},
   "outputs": [
    {
     "data": {
      "text/plain": [
       "['african_americans',\n",
       " 'welfare_reform',\n",
       " 'program_evaluation',\n",
       " 'cross_cultural',\n",
       " 'child_welfare',\n",
       " 'kinship_care',\n",
       " 'african_american',\n",
       " 'substance_abuse',\n",
       " 'community_based',\n",
       " 'based_participatory',\n",
       " 'participatory_research',\n",
       " 'criminal_justice',\n",
       " 'hiv_aids',\n",
       " 'quantitative_methods',\n",
       " 'suicide_prevention',\n",
       " 'child_maltreatment',\n",
       " 'domestic_violence',\n",
       " 'ethnic_minority',\n",
       " 'data_analysis',\n",
       " 'violence_against',\n",
       " 'against_women',\n",
       " 'race_ethnicity',\n",
       " 'substance_use',\n",
       " 'early_childhood',\n",
       " 'racial_ethnic',\n",
       " 'risk_behaviors',\n",
       " 'human_trafficking',\n",
       " 'culturally_competent',\n",
       " 'serious_mental',\n",
       " 'ethnic_minorities',\n",
       " 'young_adult',\n",
       " 'partner_violence',\n",
       " 'provider_communication',\n",
       " 'decision_making',\n",
       " 'vulnerable_populations',\n",
       " 'well_being',\n",
       " 'intimate_partner',\n",
       " 'evidence_based',\n",
       " 'critical_race',\n",
       " 'race_theory',\n",
       " 'contextual_factors',\n",
       " 'integrated_behavioral',\n",
       " 'problem_behaviors',\n",
       " 'mass_incarceration',\n",
       " 'human_rights',\n",
       " 'sex_trafficking',\n",
       " 'adverse_childhood',\n",
       " 'childhood_experiences',\n",
       " 'service_utilization',\n",
       " 'cultural_competence',\n",
       " 'positive_youth',\n",
       " 'older_adults',\n",
       " 'higher_education',\n",
       " 'juvenile_justice',\n",
       " 'culturally_responsive',\n",
       " 'alzheimer_disease',\n",
       " 'grandparents_raising',\n",
       " 'raising_grandchildren',\n",
       " 'chronic_illness',\n",
       " 'support_networks',\n",
       " 'adult_elderly',\n",
       " 'hiv_sti',\n",
       " 'undocumented_immigrants',\n",
       " 'low_income',\n",
       " 'oppressed_groups',\n",
       " 'implementation_science',\n",
       " 'asset_building',\n",
       " 'mixed_methods',\n",
       " 'chronic_disease',\n",
       " 'community_organizing',\n",
       " 'participatory_action',\n",
       " 'marginalized_communities',\n",
       " 'artificial_intelligence',\n",
       " 'emerging_adults',\n",
       " 'high_risk',\n",
       " 'built_environment',\n",
       " 'capacity_building',\n",
       " 'drug_use',\n",
       " 'service_delivery',\n",
       " 'protective_factors',\n",
       " 'anti_oppressive',\n",
       " 'research_methods',\n",
       " 'asian_americans',\n",
       " 'culturally_sensitive',\n",
       " 'clinical_practice',\n",
       " 'black_feminism',\n",
       " 'young_adults',\n",
       " 'american_indian',\n",
       " 'anti_racist',\n",
       " 'cross_national',\n",
       " 'urban_settings',\n",
       " 'qualitative_methods',\n",
       " 'critical_pedagogy',\n",
       " 'nonprofit_management',\n",
       " 'foster_care',\n",
       " 'network_analysis',\n",
       " 'minority_groups',\n",
       " 'sexual_assault',\n",
       " 'interventions_reduce',\n",
       " 'juvenile_delinquency',\n",
       " 'long_term',\n",
       " 'united_states',\n",
       " 'problem_internet',\n",
       " 'low_wage',\n",
       " 'trauma_informed',\n",
       " 'informed_care',\n",
       " 'help_seeking',\n",
       " 'later_life',\n",
       " 'life_course',\n",
       " 'income_families',\n",
       " 'food_insecurity',\n",
       " 'college_students']"
      ]
     },
     "execution_count": 24,
     "metadata": {},
     "output_type": "execute_result"
    }
   ],
   "source": [
    "# Check if it makes sense\n",
    "list(phraser.phrasegrams.keys())"
   ]
  },
  {
   "cell_type": "code",
   "execution_count": 25,
   "metadata": {},
   "outputs": [
    {
     "data": {
      "text/plain": [
       "112"
      ]
     },
     "execution_count": 25,
     "metadata": {},
     "output_type": "execute_result"
    }
   ],
   "source": [
    "# Check how many phrases we have\n",
    "len(phraser.phrasegrams.keys())\n"
   ]
  },
  {
   "cell_type": "markdown",
   "metadata": {},
   "source": [
    "Export the results to a spreadsheet file "
   ]
  },
  {
   "cell_type": "code",
   "execution_count": 26,
   "metadata": {},
   "outputs": [],
   "source": [
    "phrased_interests = phraser.phrasegrams.keys()"
   ]
  },
  {
   "cell_type": "code",
   "execution_count": 13,
   "metadata": {},
   "outputs": [],
   "source": [
    "# Convert the phrased_interests back to string format\n",
    "taxonomy_series = [' '.join(interest) for interest in phrased_interests]\n",
    "\n",
    "# Create a DataFrame\n",
    "taxonomy_df = pd.DataFrame(taxonomy_series, columns=[\"taxonomy\"])\n",
    "\n",
    "# Write to Excel\n",
    "taxonomy_df.to_excel(\"taxonomy_output.xlsx\", index=False)\n"
   ]
  },
  {
   "cell_type": "markdown",
   "metadata": {},
   "source": [
    "<strong>To do</strong>\n",
    "#### Connect the taxonomy back to the researchers\n",
    "Now there's more research interests than researchers in the data set. The goal is to link researchers to multiple items in the taxonomy by finding similarities between the original data and the new taxonomy terms. "
   ]
  },
  {
   "cell_type": "code",
   "execution_count": 27,
   "metadata": {},
   "outputs": [],
   "source": [
    "from sklearn.metrics.pairwise import cosine_similarity\n",
    "from sklearn.feature_extraction.text import TfidfVectorizer\n",
    "from nltk.tokenize import sent_tokenize\n"
   ]
  },
  {
   "cell_type": "code",
   "execution_count": 31,
   "metadata": {},
   "outputs": [],
   "source": [
    "# Correct spelling for the 'interests' column again and filler text for empty values if any\n",
    "\n",
    "data['Name'].fillna('not specified', inplace=True)\n",
    "researchers = data['Name'].tolist()\n",
    "\n",
    "corrected_interests = data['Interests'].apply(apply_sym_spell_correction).fillna('not specified')\n",
    "\n",
    "# List of all texts: taxonomy and corrected_interests\n",
    "all_texts = taxonomy_series + corrected_interests.tolist()\n",
    "\n",
    "# Filter out any invalid entries\n",
    "all_texts = [text for text in all_texts if text and not pd.isna(text)]\n",
    "\n",
    "# find frequent and unique words, turn into vectors\n",
    "vectorizer = TfidfVectorizer().fit(all_texts)\n",
    "tfidf_matrix = vectorizer.transform(all_texts)\n",
    "\n",
    "#  Make vectors of taxonomy and interests separately\n",
    "taxonomy_vectors = tfidf_matrix[:len(taxonomy_series)]\n",
    "interests_vectors = tfidf_matrix[len(taxonomy_series):]\n",
    "\n",
    "researcher_taxonomy_mapping = []\n"
   ]
  },
  {
   "cell_type": "code",
   "execution_count": 32,
   "metadata": {},
   "outputs": [],
   "source": [
    "# Tokenize the interests into sentences or chunks\n",
    "interest_sentences = [sent_tokenize(interest) for interest in corrected_interests]\n",
    "\n",
    "# Flatten the list and associate each sentence with its researcher\n",
    "researcher_sentence_pairs = [(researcher, sentence) for researcher, sentences in zip(researchers, interest_sentences) for sentence in sentences]\n",
    "\n",
    "# For each sentence, calculate similarity with taxonomy items and store the top 3 similar taxonomy items\n",
    "\n",
    "vectorizer = TfidfVectorizer().fit(all_texts)\n",
    "tfidf_matrix = vectorizer.transform(all_texts)\n",
    "\n",
    "# Separate vectors\n",
    "taxonomy_vectors = tfidf_matrix[:len(taxonomy_series)]\n",
    "sentence_vectors = vectorizer.transform([pair[1] for pair in researcher_sentence_pairs])\n",
    "\n",
    "\n"
   ]
  },
  {
   "cell_type": "code",
   "execution_count": 49,
   "metadata": {},
   "outputs": [
    {
     "name": "stderr",
     "output_type": "stream",
     "text": [
      "/Applications/anaconda3/envs/cswe/lib/python3.11/site-packages/sklearn/cluster/_kmeans.py:1416: FutureWarning: The default value of `n_init` will change from 10 to 'auto' in 1.4. Set the value of `n_init` explicitly to suppress the warning\n",
      "  super()._check_params_vs_input(X, default_n_init=10)\n"
     ]
    },
    {
     "data": {
      "image/png": "[encoded data removed]",
      "text/plain": [
       "<Figure size 1000x600 with 1 Axes>"
      ]
     },
     "metadata": {},
     "output_type": "display_data"
    },
    {
     "data": {
      "image/png": "[encoded data removed]",
      "text/plain": [
       "<Figure size 1000x800 with 1 Axes>"
      ]
     },
     "metadata": {},
     "output_type": "display_data"
    }
   ],
   "source": [
    "from sklearn.decomposition import PCA\n",
    "import matplotlib.pyplot as plt\n",
    "from sklearn.cluster import KMeans\n",
    "\n",
    "\n",
    "# Apply PCA and reduce the data's dimensions to 2\n",
    "pca = PCA(n_components=800)\n",
    "reduced_vectors = pca.fit_transform(interests_vectors.toarray())\n",
    "\n",
    "# Step 1: Use KMeans clustering with a range of `k` values\n",
    "wcss = []  # Within-cluster sum of squares\n",
    "K_range = range(1, 5)  # Let's check for up to 15 clusters\n",
    "\n",
    "for k in K_range:\n",
    "    kmeans = KMeans(n_clusters=k, random_state=42)\n",
    "    kmeans.fit(interests_vectors)\n",
    "    wcss.append(kmeans.inertia_)\n",
    "\n",
    "# Step 2: Calculate the sum of squared distances for each `k`\n",
    "# Step 3: Plot the elbow curve\n",
    "plt.figure(figsize=(10,6))\n",
    "plt.plot(K_range, wcss, marker='o', linestyle='--')\n",
    "plt.title('Elbow Method')\n",
    "plt.xlabel('Number of clusters')\n",
    "plt.ylabel('WCSS')\n",
    "plt.show()\n",
    "\n",
    "# Based on the graph, you can pick the 'k' where the rate of decrease sharply changes, creating an \"elbow\" in the graph.\n",
    "\n",
    "# Once you've chosen the 'k', you can then use it to cluster and visualize as before.\n",
    "chosen_k = int(input(\"Enter the chosen k based on the graph: \"))  # e.g., 4 or 5, depending on where you see the \"elbow\"\n",
    "\n",
    "kmeans = KMeans(n_clusters=chosen_k, random_state=42)\n",
    "clusters = kmeans.fit_predict(interests_vectors)\n",
    "\n",
    "# Visualize\n",
    "plt.figure(figsize=(10, 8))\n",
    "plt.scatter(reduced_vectors[:, 0], reduced_vectors[:, 1], c=clusters, cmap='rainbow', s=50)\n",
    "centers = pca.transform(kmeans.cluster_centers_)\n",
    "plt.scatter(centers[:, 0], centers[:, 1], c='black', s=200, alpha=0.75, marker='X')\n",
    "plt.title(f\"KMeans Clustering (k={chosen_k})\")\n",
    "plt.show()\n",
    "\n"
   ]
  },
  {
   "cell_type": "markdown",
   "metadata": {},
   "source": [
    "#### Visualizations"
   ]
  },
  {
   "cell_type": "code",
   "execution_count": 70,
   "metadata": {},
   "outputs": [
    {
     "name": "stdout",
     "output_type": "stream",
     "text": [
      "862\n"
     ]
    }
   ],
   "source": [
    "print(len(researchers))"
   ]
  },
  {
   "cell_type": "markdown",
   "metadata": {},
   "source": []
  }
 ],
 "metadata": {
  "kernelspec": {
   "display_name": "Python 3",
   "language": "python",
   "name": "python3"
  },
  "language_info": {
   "codemirror_mode": {
    "name": "ipython",
    "version": 3
   },
   "file_extension": ".py",
   "mimetype": "text/x-python",
   "name": "python",
   "nbconvert_exporter": "python",
   "pygments_lexer": "ipython3",
   "version": "3.11.5"
  }
 },
 "nbformat": 4,
 "nbformat_minor": 2
}
