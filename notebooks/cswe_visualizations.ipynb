{
 "cells": [
  {
   "cell_type": "code",
   "execution_count": null,
   "id": "52b332de",
   "metadata": {},
   "outputs": [],
   "source": [
    "import pandas as pd\n",
    "import numpy as np\n",
    "import seaborn as sns\n",
    "import matplotlib.pyplot as pltfrom \n",
    "from sklearn.manifold import TSNE\n"
   ]
  },
  {
   "cell_type": "code",
   "execution_count": null,
   "id": "10a135cf",
   "metadata": {},
   "outputs": [],
   "source": [
    "df = pd.read_csv('topics_subtopics_abridged.csv')"
   ]
  },
  {
   "cell_type": "code",
   "execution_count": null,
   "id": "9b9f0b68",
   "metadata": {},
   "outputs": [],
   "source": [
    "df_encoded = pd.get_dummies(df, prefix_sep=\"_\", columns=df.columns)\n",
    "# Convert the high-dimensional data to 2D points\n",
    "tsne = TSNE(n_components=2, random_state=42)\n",
    "reduced = tsne.fit_transform(df_encoded)\n"
   ]
  },
  {
   "cell_type": "code",
   "execution_count": null,
   "id": "20123362",
   "metadata": {},
   "outputs": [],
   "source": [
    "from sklearn.cluster import KMeans\n",
    "\n",
    "n_clusters = 20  # Adjust this based on your preference\n",
    "kmeans = KMeans(n_clusters=n_clusters)\n",
    "df_encoded['cluster'] = kmeans.fit_predict(df_encoded)\n"
   ]
  },
  {
   "cell_type": "code",
   "execution_count": null,
   "id": "c7782ac4",
   "metadata": {},
   "outputs": [],
   "source": [
    "import plotly.express as px\n",
    "\n",
    "# Create a DataFrame for the reduced data\n",
    "df_reduced = pd.DataFrame(reduced, columns=['x', 'y'])\n",
    "df_reduced['details'] = df.apply(lambda row: ' | '.join(row.dropna().values), axis=1)\n",
    "df_reduced['cluster'] = df_encoded['cluster']\n",
    "\n",
    "fig = px.scatter(df_reduced, x='x', y='y', color='cluster', hover_data=['details'], title=\"Interactive Visualization of Topics\")\n",
    "fig.show()\n"
   ]
  },
  {
   "cell_type": "code",
   "execution_count": null,
   "id": "0b4f8b35",
   "metadata": {},
   "outputs": [],
   "source": [
    "# convert csv to hiearchy for treemap\n",
    "import pandas as pd\n",
    "\n",
    "df = pd.read_csv('hierarchical_data.csv')\n",
    "hierarchy = {\"name\": \"root\", \"children\": []}\n",
    "\n",
    "for column in df.columns:\n",
    "    topics_data = {\n",
    "        \"name\": column,\n",
    "        \"children\": []\n",
    "    }\n",
    "\n",
    "    for entry in df[column]:\n",
    "        if pd.notna(entry):\n",
    "            topics_data[\"children\"].append({\"name\": entry})\n",
    "\n",
    "    hierarchy[\"children\"].append(topics_data)\n"
   ]
  },
  {
   "cell_type": "code",
   "execution_count": null,
   "id": "2b1d46da",
   "metadata": {},
   "outputs": [],
   "source": [
    "# Flatten the hierarchy into a DataFrame for Plotly\n",
    "data = []\n",
    "\n",
    "def flatten_hierarchy(node, parent_name=''):\n",
    "    if 'children' in node:\n",
    "        name = node['name']\n",
    "        if parent_name:\n",
    "            data.append([parent_name, name])\n",
    "        for child in node['children']:\n",
    "            flatten_hierarchy(child, name)\n",
    "    else:\n",
    "        data.append([parent_name, node['name']])\n",
    "        \n",
    "flatten_hierarchy(hierarchy)\n",
    "\n",
    "df_plotly = pd.DataFrame(data, columns=['parent', 'name'])\n"
   ]
  },
  {
   "cell_type": "code",
   "execution_count": null,
   "id": "f9a83cdd",
   "metadata": {},
   "outputs": [],
   "source": [
    "import plotly.express as px\n",
    "\n",
    "fig = px.treemap(df_plotly, path=['parent', 'name'])\n",
    "fig.show()\n"
   ]
  },
  {
   "cell_type": "code",
   "execution_count": null,
   "id": "8c0bcb41",
   "metadata": {},
   "outputs": [],
   "source": [
    "import plotly.offline as offline\n",
    "\n",
    "offline.plot(fig, filename='treemap.html', auto_open=False)\n"
   ]
  },
  {
   "cell_type": "code",
   "execution_count": null,
   "id": "05764b37",
   "metadata": {},
   "outputs": [],
   "source": [
    "# topics as nodes and subtopics as edges with broken data\n",
    "# use as model for network graph with researchers\n",
    "import networkx as nx\n",
    "from pyvis.network import Network\n",
    "df = pd.read_csv('network_graph.csv')\n"
   ]
  },
  {
   "cell_type": "code",
   "execution_count": null,
   "id": "94b04cbd",
   "metadata": {},
   "outputs": [],
   "source": [
    "# Initialize dictionary and plot\n",
    "topics_data = {}\n",
    "\n",
    "G = nx.Graph()\n",
    "\n",
    "for column in df.columns:\n",
    "    main_topic = column\n",
    "    G.add_node(main_topic)\n",
    "    \n",
    "    for subtopic in df[column].dropna():\n",
    "        G.add_node(subtopic)\n",
    "        G.add_edge(main_topic, subtopic)\n",
    "\n",
    "# Plot the network outside of jupyter notebook\n",
    "nt = Network(notebook=True, cdn_resources='remote')\n",
    "nt.from_nx(G)\n",
    "nt.show('graph.html')"
   ]
  },
  {
   "cell_type": "code",
   "execution_count": null,
   "id": "cb78ba80",
   "metadata": {},
   "outputs": [],
   "source": [
    "# Make it look pretty with weights and colors\n",
    "\n",
    "G = nx.Graph()\n",
    "\n",
    "for column in df.columns:\n",
    "    main_topic = column\n",
    "    G.add_node(main_topic)\n",
    "    \n",
    "    for subtopic in df[column].dropna():\n",
    "        G.add_node(subtopic)\n",
    "        G.add_edge(main_topic, subtopic)\n",
    "\n",
    "# Coloring edges\n",
    "edge_colors = {}\n",
    "degrees = G.degree()\n",
    "for edge in G.edges():\n",
    "    # Assuming the second node in the edge tuple is the subtopic\n",
    "    if degrees[edge[1]] > 1:\n",
    "        edge_colors[edge] = 'red'  # Color for edges where subtopic connects with multiple main topics\n",
    "    else:\n",
    "        edge_colors[edge] = 'blue'  # Default color\n",
    "\n",
    "nt = Network(notebook=True, cdn_resources='in_line', )\n",
    "nt.from_nx(G)\n",
    "for edge in nt.edges:\n",
    "    edge['color'] = edge_colors[(edge['from'], edge['to'])]\n",
    "\n",
    "nt.show('graph_color.html')"
   ]
  },
  {
   "cell_type": "code",
   "execution_count": null,
   "id": "7fb9b574",
   "metadata": {},
   "outputs": [],
   "source": [
    "# Now a sunburst!\n",
    "\n",
    "import plotly.graph_objects as go\n",
    "df = pd.read_csv('topics_subtopics_burst.csv')\n",
    "# Prepare the labels, values, and parents\n",
    "topics_data = {}\n",
    "for column in df.columns:\n",
    "    topics_data[column] = df[column].dropna().tolist()\n",
    "\n"
   ]
  },
  {
   "cell_type": "code",
   "execution_count": null,
   "id": "ae23071b",
   "metadata": {},
   "outputs": [],
   "source": [
    "labels = []\n",
    "values = []\n",
    "parents = []"
   ]
  },
  {
   "cell_type": "code",
   "execution_count": null,
   "id": "ab731b3b",
   "metadata": {},
   "outputs": [],
   "source": [
    "for main_topic, subtopics in topics_data.items():\n",
    "    labels.append(main_topic)\n",
    "    values.append(0)  # Main topic itself doesn't have a \"value\" in this context\n",
    "    parents.append('')  # Main topics don't have parents\n",
    "\n",
    "    for subtopic in subtopics:\n",
    "        labels.append(subtopic)\n",
    "        values.append(1)  # Each subtopic has a value of 1\n",
    "        parents.append(main_topic)  # Parent of each subtopic is the main topic\n"
   ]
  },
  {
   "cell_type": "code",
   "execution_count": null,
   "id": "51f6e2f9",
   "metadata": {},
   "outputs": [],
   "source": [
    "import plotly.graph_objects as go\n",
    "import plotly.io as pio\n",
    "\n",
    "\n",
    "# Creating the Sunburst chart\n",
    "fig = go.Figure(go.Sunburst(\n",
    "    labels=labels,\n",
    "    values=values,\n",
    "    parents=parents,\n",
    "    maxdepth=2  # Only two levels: main topic and subtopic\n",
    "))\n",
    "\n",
    "pio.renderers.default = 'browser'\n",
    "fig.show()\n",
    "\n",
    "fig.write_html(\"sunburst_chart.html\")"
   ]
  },
  {
   "cell_type": "code",
   "execution_count": null,
   "id": "f7b4f2e2",
   "metadata": {},
   "outputs": [],
   "source": [
    "print(labels[:10])  # first 10 labels\n",
    "print(values[:10])  # first 10 values\n",
    "print(parents[:10]) # first 10 parents\n",
    "\n",
    "print(labels[-10:])  # last 10 labels\n",
    "print(values[-10:])  # last 10 values\n",
    "print(parents[-10:]) # last 10 parents"
   ]
  },
  {
   "cell_type": "code",
   "execution_count": null,
   "id": "d54b1d2f",
   "metadata": {},
   "outputs": [],
   "source": []
  }
 ],
 "metadata": {
  "kernelspec": {
   "display_name": "Python 3 (ipykernel)",
   "language": "python",
   "name": "python3"
  },
  "language_info": {
   "codemirror_mode": {
    "name": "ipython",
    "version": 3
   },
   "file_extension": ".py",
   "mimetype": "text/x-python",
   "name": "python",
   "nbconvert_exporter": "python",
   "pygments_lexer": "ipython3",
   "version": "3.10.10"
  }
 },
 "nbformat": 4,
 "nbformat_minor": 5
}
