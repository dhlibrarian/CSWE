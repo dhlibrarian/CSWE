{
 "cells": [
  {
   "cell_type": "code",
   "execution_count": 1,
   "id": "f76fe7a2-8378-42bd-96e4-0b835d6d382f",
   "metadata": {},
   "outputs": [
    {
     "name": "stdout",
     "output_type": "stream",
     "text": [
      "\u001b[33mDEPRECATION: Loading egg at /Users/joshuabaco/opt/anaconda3/envs/abolition_now/lib/python3.11/site-packages/Qualcoder-3.1-py3.11.egg is deprecated. pip 23.3 will enforce this behaviour change. A possible replacement is to use pip for package installation..\u001b[0m\u001b[33m\n",
      "\u001b[0mRequirement already satisfied: openpyxl in /Users/joshuabaco/opt/anaconda3/envs/abolition_now/lib/python3.11/site-packages (3.1.2)\n",
      "Requirement already satisfied: et-xmlfile in /Users/joshuabaco/opt/anaconda3/envs/abolition_now/lib/python3.11/site-packages (from openpyxl) (1.1.0)\n",
      "/Users/joshuabaco/opt/anaconda3/envs/abolition_now/bin/python: No module named spacy\n"
     ]
    }
   ],
   "source": [
    "!pip install openpyxl\n",
    "!python -m spacy download en_core_web_sm"
   ]
  },
  {
   "cell_type": "code",
   "execution_count": 8,
   "id": "1405668c-9ea0-43f5-9d18-51ded13140ef",
   "metadata": {},
   "outputs": [],
   "source": [
    "import pandas as pd\n",
    "from itertools import combinations\n",
    "\n",
    "# Load the DataFrame from Excel\n",
    "df = pd.read_excel('manual_interests.xlsx')\n",
    "\n",
    "# Define filler words to ignore \n",
    "fillers = ['of', 'and', 'in', 'on', 'at', 'for', 'the', 'an', 'to', 'a']\n"
   ]
  },
  {
   "cell_type": "code",
   "execution_count": 10,
   "id": "5c78376d-d530-40c7-bc0e-fb8a8afd5335",
   "metadata": {},
   "outputs": [],
   "source": [
    "def custom_chunker(phrase):\n",
    "    print(f\"Original phrase: {phrase}\")  # Debug line\n",
    "    # Remove apostrophes and commas\n",
    "    cleaned_phrase = phrase.replace(\"\\\"\", \"\").replace(\",\", \"\")\n",
    "    \n",
    "    # Tokenize the phrase\n",
    "    tokens = cleaned_phrase.split()\n",
    "    print(f\"Tokens: {tokens}\")  # Debug line\n",
    "    \n",
    "    # Remove filler words\n",
    "    important_tokens = [token for token in tokens if token.lower() not in fillers]\n",
    "    print(f\"Important tokens: {important_tokens}\")  # Debug line\n",
    "    \n",
    "    new_phrases = []\n",
    "    for i in range(1, len(important_tokens) + 1):\n",
    "        for subset in combinations(important_tokens, i):\n",
    "            new_phrases.append(\"_\".join(subset))\n",
    "    \n",
    "    print(f\"New phrases: {new_phrases}\")  # Debug line\n",
    "    return new_phrases\n"
   ]
  },
  {
   "cell_type": "code",
   "execution_count": 11,
   "id": "e5e1700c-6ec2-4a67-8b6e-a66a6f2ff574",
   "metadata": {},
   "outputs": [
    {
     "name": "stdout",
     "output_type": "stream",
     "text": [
      "Original phrase: \"#blacklivesmatter\",\n",
      "Tokens: ['#blacklivesmatter']\n",
      "Important tokens: ['#blacklivesmatter']\n",
      "New phrases: ['#blacklivesmatter']\n",
      "Original phrase: '#blacklivesmatter',\n",
      "Tokens: [\"'#blacklivesmatter'\"]\n",
      "Important tokens: [\"'#blacklivesmatter'\"]\n",
      "New phrases: [\"'#blacklivesmatter'\"]\n",
      "Original phrase: \"529 college education plans\",\n",
      "Tokens: ['529', 'college', 'education', 'plans']\n",
      "Important tokens: ['529', 'college', 'education', 'plans']\n",
      "New phrases: ['529', 'college', 'education', 'plans', '529_college', '529_education', '529_plans', 'college_education', 'college_plans', 'education_plans', '529_college_education', '529_college_plans', '529_education_plans', 'college_education_plans', '529_college_education_plans']\n",
      "Original phrase: \"aapi and native hawaiian behavioral health disparities\",\n",
      "Tokens: ['aapi', 'and', 'native', 'hawaiian', 'behavioral', 'health', 'disparities']\n",
      "Important tokens: ['aapi', 'native', 'hawaiian', 'behavioral', 'health', 'disparities']\n",
      "New phrases: ['aapi', 'native', 'hawaiian', 'behavioral', 'health', 'disparities', 'aapi_native', 'aapi_hawaiian', 'aapi_behavioral', 'aapi_health', 'aapi_disparities', 'native_hawaiian', 'native_behavioral', 'native_health', 'native_disparities', 'hawaiian_behavioral', 'hawaiian_health', 'hawaiian_disparities', 'behavioral_health', 'behavioral_disparities', 'health_disparities', 'aapi_native_hawaiian', 'aapi_native_behavioral', 'aapi_native_health', 'aapi_native_disparities', 'aapi_hawaiian_behavioral', 'aapi_hawaiian_health', 'aapi_hawaiian_disparities', 'aapi_behavioral_health', 'aapi_behavioral_disparities', 'aapi_health_disparities', 'native_hawaiian_behavioral', 'native_hawaiian_health', 'native_hawaiian_disparities', 'native_behavioral_health', 'native_behavioral_disparities', 'native_health_disparities', 'hawaiian_behavioral_health', 'hawaiian_behavioral_disparities', 'hawaiian_health_disparities', 'behavioral_health_disparities', 'aapi_native_hawaiian_behavioral', 'aapi_native_hawaiian_health', 'aapi_native_hawaiian_disparities', 'aapi_native_behavioral_health', 'aapi_native_behavioral_disparities', 'aapi_native_health_disparities', 'aapi_hawaiian_behavioral_health', 'aapi_hawaiian_behavioral_disparities', 'aapi_hawaiian_health_disparities', 'aapi_behavioral_health_disparities', 'native_hawaiian_behavioral_health', 'native_hawaiian_behavioral_disparities', 'native_hawaiian_health_disparities', 'native_behavioral_health_disparities', 'hawaiian_behavioral_health_disparities', 'aapi_native_hawaiian_behavioral_health', 'aapi_native_hawaiian_behavioral_disparities', 'aapi_native_hawaiian_health_disparities', 'aapi_native_behavioral_health_disparities', 'aapi_hawaiian_behavioral_health_disparities', 'native_hawaiian_behavioral_health_disparities', 'aapi_native_hawaiian_behavioral_health_disparities']\n",
      "Original phrase: \"abolition of mass incarceration\",\n",
      "Tokens: ['abolition', 'of', 'mass', 'incarceration']\n",
      "Important tokens: ['abolition', 'mass', 'incarceration']\n",
      "New phrases: ['abolition', 'mass', 'incarceration', 'abolition_mass', 'abolition_incarceration', 'mass_incarceration', 'abolition_mass_incarceration']\n",
      "Original phrase: \"absenteeism\",\n",
      "Tokens: ['absenteeism']\n",
      "Important tokens: ['absenteeism']\n",
      "New phrases: ['absenteeism']\n",
      "Original phrase: \"academic accommodation\",\n",
      "Tokens: ['academic', 'accommodation']\n",
      "Important tokens: ['academic', 'accommodation']\n",
      "New phrases: ['academic', 'accommodation', 'academic_accommodation']\n",
      "Original phrase: \"academic achievement\",\n",
      "Tokens: ['academic', 'achievement']\n",
      "Important tokens: ['academic', 'achievement']\n",
      "New phrases: ['academic', 'achievement', 'academic_achievement']\n",
      "Original phrase: \"academic and social supports for african_americans\",\n",
      "Tokens: ['academic', 'and', 'social', 'supports', 'for', 'african_americans']\n",
      "Important tokens: ['academic', 'social', 'supports', 'african_americans']\n",
      "New phrases: ['academic', 'social', 'supports', 'african_americans', 'academic_social', 'academic_supports', 'academic_african_americans', 'social_supports', 'social_african_americans', 'supports_african_americans', 'academic_social_supports', 'academic_social_african_americans', 'academic_supports_african_americans', 'social_supports_african_americans', 'academic_social_supports_african_americans']\n",
      "Original phrase: \"access\",\n",
      "Tokens: ['access']\n",
      "Important tokens: ['access']\n",
      "New phrases: ['access']\n"
     ]
    }
   ],
   "source": [
    "# Collect all the new terms\n",
    "new_terms = set()\n",
    "\n",
    "# Loop through each row of DataFrame\n",
    "for index, row in df.head(10).iterrows():\n",
    "    phrase = row['Terms']  # Replace 'Terms' with the actual column name in your DataFrame\n",
    "    new_terms.update(custom_chunker(phrase))  # Use custom_chunker, not simple_chunker\n",
    "\n",
    "\n",
    "# Convert back to DataFrame if needed\n",
    "new_terms_df = pd.DataFrame(list(new_terms), columns=['New_Terms'])\n",
    "\n",
    "# Save the DataFrame back to Excel\n",
    "new_terms_df.to_excel('new_terms.xlsx', index=False)"
   ]
  },
  {
   "cell_type": "code",
   "execution_count": null,
   "id": "960525f9-1f93-4e50-a7ab-0beb36fc7fd7",
   "metadata": {
    "editable": true,
    "slideshow": {
     "slide_type": ""
    },
    "tags": []
   },
   "outputs": [],
   "source": []
  }
 ],
 "metadata": {
  "kernelspec": {
   "display_name": "Python 3 (ipykernel)",
   "language": "python",
   "name": "python3"
  },
  "language_info": {
   "codemirror_mode": {
    "name": "ipython",
    "version": 3
   },
   "file_extension": ".py",
   "mimetype": "text/x-python",
   "name": "python",
   "nbconvert_exporter": "python",
   "pygments_lexer": "ipython3",
   "version": "3.11.5"
  }
 },
 "nbformat": 4,
 "nbformat_minor": 5
}
